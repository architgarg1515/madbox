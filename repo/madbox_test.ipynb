{
 "cells": [
  {
   "cell_type": "markdown",
   "metadata": {},
   "source": [
    "1. On récupère les données de l'API"
   ]
  },
  {
   "cell_type": "code",
   "execution_count": 138,
   "metadata": {},
   "outputs": [],
   "source": [
    "import requests, json, pandas as pd\n",
    "from pandas.io.json import json_normalize\n",
    "\n",
    "# On commence par récupérer les datas de l'API\n",
    "\n",
    "parametres = {\n",
    "    'start_date':'2019-01-01',\n",
    "    'end_date':'2019-09-07',\n",
    "    'columns':['spend','revenue','profit','margin','nb_impressions','ecpm']}\n",
    "\n",
    "r = requests.post('https://data-analyst-test.madboxgames.io/api/public/profit/get',params=parametres)\n"
   ]
  },
  {
   "cell_type": "markdown",
   "metadata": {},
   "source": [
    "2. On transforme les données en dataframe"
   ]
  },
  {
   "cell_type": "code",
   "execution_count": 142,
   "metadata": {},
   "outputs": [
    {
     "data": {
      "text/html": [
       "<div>\n",
       "<style>\n",
       "    .dataframe thead tr:only-child th {\n",
       "        text-align: right;\n",
       "    }\n",
       "\n",
       "    .dataframe thead th {\n",
       "        text-align: left;\n",
       "    }\n",
       "\n",
       "    .dataframe tbody tr th {\n",
       "        vertical-align: top;\n",
       "    }\n",
       "</style>\n",
       "<table border=\"1\" class=\"dataframe\">\n",
       "  <thead>\n",
       "    <tr style=\"text-align: right;\">\n",
       "      <th></th>\n",
       "      <th>ecpm</th>\n",
       "      <th>margin</th>\n",
       "      <th>nb_impressions</th>\n",
       "      <th>profit</th>\n",
       "      <th>revenue</th>\n",
       "      <th>spend</th>\n",
       "    </tr>\n",
       "    <tr>\n",
       "      <th>date</th>\n",
       "      <th></th>\n",
       "      <th></th>\n",
       "      <th></th>\n",
       "      <th></th>\n",
       "      <th></th>\n",
       "      <th></th>\n",
       "    </tr>\n",
       "  </thead>\n",
       "  <tbody>\n",
       "    <tr>\n",
       "      <th>2019-01-01</th>\n",
       "      <td>49.59</td>\n",
       "      <td>0.34</td>\n",
       "      <td>59751.76</td>\n",
       "      <td>993.28</td>\n",
       "      <td>2963.14</td>\n",
       "      <td>1969.86</td>\n",
       "    </tr>\n",
       "    <tr>\n",
       "      <th>2019-01-02</th>\n",
       "      <td>49.98</td>\n",
       "      <td>0.32</td>\n",
       "      <td>62299.62</td>\n",
       "      <td>1002.36</td>\n",
       "      <td>3113.48</td>\n",
       "      <td>2111.12</td>\n",
       "    </tr>\n",
       "    <tr>\n",
       "      <th>2019-01-03</th>\n",
       "      <td>48.27</td>\n",
       "      <td>0.34</td>\n",
       "      <td>65199.64</td>\n",
       "      <td>1074.17</td>\n",
       "      <td>3146.88</td>\n",
       "      <td>2072.72</td>\n",
       "    </tr>\n",
       "    <tr>\n",
       "      <th>2019-01-04</th>\n",
       "      <td>49.73</td>\n",
       "      <td>0.33</td>\n",
       "      <td>63996.98</td>\n",
       "      <td>1061.52</td>\n",
       "      <td>3182.79</td>\n",
       "      <td>2121.26</td>\n",
       "    </tr>\n",
       "    <tr>\n",
       "      <th>2019-01-05</th>\n",
       "      <td>48.49</td>\n",
       "      <td>0.32</td>\n",
       "      <td>64038.54</td>\n",
       "      <td>992.10</td>\n",
       "      <td>3105.02</td>\n",
       "      <td>2112.92</td>\n",
       "    </tr>\n",
       "  </tbody>\n",
       "</table>\n",
       "</div>"
      ],
      "text/plain": [
       "             ecpm  margin  nb_impressions   profit  revenue    spend\n",
       "date                                                                \n",
       "2019-01-01  49.59    0.34        59751.76   993.28  2963.14  1969.86\n",
       "2019-01-02  49.98    0.32        62299.62  1002.36  3113.48  2111.12\n",
       "2019-01-03  48.27    0.34        65199.64  1074.17  3146.88  2072.72\n",
       "2019-01-04  49.73    0.33        63996.98  1061.52  3182.79  2121.26\n",
       "2019-01-05  48.49    0.32        64038.54   992.10  3105.02  2112.92"
      ]
     },
     "execution_count": 142,
     "metadata": {},
     "output_type": "execute_result"
    }
   ],
   "source": [
    "data = r.text\n",
    "\n",
    "j = json.loads(data)\n",
    "\n",
    "y = j['data']\n",
    "\n",
    "df = pd.DataFrame(j['data']['data'])\n",
    "\n",
    "\n",
    "df['date'] = pd.to_datetime(df['date']) \n",
    "df.set_index('date', inplace=True)\n",
    "\n",
    "df.head()"
   ]
  },
  {
   "cell_type": "markdown",
   "metadata": {},
   "source": [
    "3. On analyse les différentes données"
   ]
  },
  {
   "cell_type": "code",
   "execution_count": 147,
   "metadata": {},
   "outputs": [
    {
     "data": {
      "image/png": "[encoded data removed]",
      "text/plain": [
       "<matplotlib.figure.Figure at 0x7f88fd83b588>"
      ]
     },
     "metadata": {},
     "output_type": "display_data"
    }
   ],
   "source": [
    "import matplotlib.pyplot as plt\n",
    "\n",
    "#plt.plot(df.index, df.ecpm)\n",
    "#plt.plot(df.index, df.margin)\n",
    "plt.plot(df.index, df.nb_impressions)\n",
    "#plt.plot(df.index, df.profit)\n",
    "#plt.plot(df.index, df.revenue)\n",
    "#plt.plot(df.index, df.spend)\n",
    "\n",
    "\n",
    "plt.show()"
   ]
  },
  {
   "cell_type": "code",
   "execution_count": 145,
   "metadata": {},
   "outputs": [
    {
     "data": {
      "text/plain": [
       "array([[ 1.        ,  0.97703771],\n",
       "       [ 0.97703771,  1.        ]])"
      ]
     },
     "execution_count": 145,
     "metadata": {},
     "output_type": "execute_result"
    }
   ],
   "source": [
    "import numpy as np\n",
    "\n",
    "r=np.corrcoef(df.spend, df.nb_impressions)\n",
    "\n",
    "r\n",
    "\n",
    "#df.apply(lambda x: x.loc[:, \"margin\"] * x.loc[:, \"revenue\"])"
   ]
  }
 ],
 "metadata": {
  "kernelspec": {
   "display_name": "Python 3",
   "language": "python",
   "name": "python3"
  },
  "language_info": {
   "codemirror_mode": {
    "name": "ipython",
    "version": 3
   },
   "file_extension": ".py",
   "mimetype": "text/x-python",
   "name": "python",
   "nbconvert_exporter": "python",
   "pygments_lexer": "ipython3",
   "version": "3.5.2"
  }
 },
 "nbformat": 4,
 "nbformat_minor": 2
}
